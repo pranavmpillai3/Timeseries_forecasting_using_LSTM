{
 "cells": [
  {
   "cell_type": "code",
   "execution_count": 1,
   "id": "6b217af9-3308-4e11-bf51-85fd6b795557",
   "metadata": {},
   "outputs": [],
   "source": [
    "import numpy as np\n",
    "from tensorflow.keras.models import Sequential\n",
    "from tensorflow.keras.layers import LSTM\n",
    "from tensorflow.keras.layers import Dense, Dropout\n",
    "import pandas as pd\n",
    "import matplotlib.pyplot as plt\n",
    "from sklearn.preprocessing import StandardScaler\n",
    "import seaborn as sns"
   ]
  },
  {
   "cell_type": "code",
   "execution_count": 2,
   "id": "6604a28f-6222-4b8e-9d3c-ef58b7cf0ea0",
   "metadata": {},
   "outputs": [],
   "source": [
    "bc = pd.read_csv('BTC_USD.csv')"
   ]
  },
  {
   "cell_type": "code",
   "execution_count": 3,
   "id": "83c30e05-3073-42ba-9bab-c2d5727c27b5",
   "metadata": {},
   "outputs": [
    {
     "data": {
      "text/html": [
       "<div>\n",
       "<style scoped>\n",
       "    .dataframe tbody tr th:only-of-type {\n",
       "        vertical-align: middle;\n",
       "    }\n",
       "\n",
       "    .dataframe tbody tr th {\n",
       "        vertical-align: top;\n",
       "    }\n",
       "\n",
       "    .dataframe thead th {\n",
       "        text-align: right;\n",
       "    }\n",
       "</style>\n",
       "<table border=\"1\" class=\"dataframe\">\n",
       "  <thead>\n",
       "    <tr style=\"text-align: right;\">\n",
       "      <th></th>\n",
       "      <th>Currency</th>\n",
       "      <th>Date</th>\n",
       "      <th>Closing Price (USD)</th>\n",
       "      <th>24h Open (USD)</th>\n",
       "      <th>24h High (USD)</th>\n",
       "      <th>24h Low (USD)</th>\n",
       "    </tr>\n",
       "  </thead>\n",
       "  <tbody>\n",
       "    <tr>\n",
       "      <th>0</th>\n",
       "      <td>BTC</td>\n",
       "      <td>2013-10-01</td>\n",
       "      <td>123.65499</td>\n",
       "      <td>124.30466</td>\n",
       "      <td>124.75166</td>\n",
       "      <td>122.56349</td>\n",
       "    </tr>\n",
       "    <tr>\n",
       "      <th>1</th>\n",
       "      <td>BTC</td>\n",
       "      <td>2013-10-02</td>\n",
       "      <td>125.45500</td>\n",
       "      <td>123.65499</td>\n",
       "      <td>125.75850</td>\n",
       "      <td>123.63383</td>\n",
       "    </tr>\n",
       "    <tr>\n",
       "      <th>2</th>\n",
       "      <td>BTC</td>\n",
       "      <td>2013-10-03</td>\n",
       "      <td>108.58483</td>\n",
       "      <td>125.45500</td>\n",
       "      <td>125.66566</td>\n",
       "      <td>83.32833</td>\n",
       "    </tr>\n",
       "    <tr>\n",
       "      <th>3</th>\n",
       "      <td>BTC</td>\n",
       "      <td>2013-10-04</td>\n",
       "      <td>118.67466</td>\n",
       "      <td>108.58483</td>\n",
       "      <td>118.67500</td>\n",
       "      <td>107.05816</td>\n",
       "    </tr>\n",
       "    <tr>\n",
       "      <th>4</th>\n",
       "      <td>BTC</td>\n",
       "      <td>2013-10-05</td>\n",
       "      <td>121.33866</td>\n",
       "      <td>118.67466</td>\n",
       "      <td>121.93633</td>\n",
       "      <td>118.00566</td>\n",
       "    </tr>\n",
       "    <tr>\n",
       "      <th>5</th>\n",
       "      <td>BTC</td>\n",
       "      <td>2013-10-06</td>\n",
       "      <td>120.65533</td>\n",
       "      <td>121.33866</td>\n",
       "      <td>121.85216</td>\n",
       "      <td>120.55450</td>\n",
       "    </tr>\n",
       "    <tr>\n",
       "      <th>6</th>\n",
       "      <td>BTC</td>\n",
       "      <td>2013-10-07</td>\n",
       "      <td>121.79500</td>\n",
       "      <td>120.65533</td>\n",
       "      <td>121.99166</td>\n",
       "      <td>120.43199</td>\n",
       "    </tr>\n",
       "    <tr>\n",
       "      <th>7</th>\n",
       "      <td>BTC</td>\n",
       "      <td>2013-10-08</td>\n",
       "      <td>123.03300</td>\n",
       "      <td>121.79500</td>\n",
       "      <td>123.64016</td>\n",
       "      <td>121.35066</td>\n",
       "    </tr>\n",
       "    <tr>\n",
       "      <th>8</th>\n",
       "      <td>BTC</td>\n",
       "      <td>2013-10-09</td>\n",
       "      <td>124.04900</td>\n",
       "      <td>123.03300</td>\n",
       "      <td>124.78350</td>\n",
       "      <td>122.59266</td>\n",
       "    </tr>\n",
       "    <tr>\n",
       "      <th>9</th>\n",
       "      <td>BTC</td>\n",
       "      <td>2013-10-10</td>\n",
       "      <td>125.96116</td>\n",
       "      <td>124.04900</td>\n",
       "      <td>128.01683</td>\n",
       "      <td>123.81966</td>\n",
       "    </tr>\n",
       "  </tbody>\n",
       "</table>\n",
       "</div>"
      ],
      "text/plain": [
       "  Currency        Date  Closing Price (USD)  24h Open (USD)  24h High (USD)  \\\n",
       "0      BTC  2013-10-01            123.65499       124.30466       124.75166   \n",
       "1      BTC  2013-10-02            125.45500       123.65499       125.75850   \n",
       "2      BTC  2013-10-03            108.58483       125.45500       125.66566   \n",
       "3      BTC  2013-10-04            118.67466       108.58483       118.67500   \n",
       "4      BTC  2013-10-05            121.33866       118.67466       121.93633   \n",
       "5      BTC  2013-10-06            120.65533       121.33866       121.85216   \n",
       "6      BTC  2013-10-07            121.79500       120.65533       121.99166   \n",
       "7      BTC  2013-10-08            123.03300       121.79500       123.64016   \n",
       "8      BTC  2013-10-09            124.04900       123.03300       124.78350   \n",
       "9      BTC  2013-10-10            125.96116       124.04900       128.01683   \n",
       "\n",
       "   24h Low (USD)  \n",
       "0      122.56349  \n",
       "1      123.63383  \n",
       "2       83.32833  \n",
       "3      107.05816  \n",
       "4      118.00566  \n",
       "5      120.55450  \n",
       "6      120.43199  \n",
       "7      121.35066  \n",
       "8      122.59266  \n",
       "9      123.81966  "
      ]
     },
     "execution_count": 3,
     "metadata": {},
     "output_type": "execute_result"
    }
   ],
   "source": [
    "bc.head(10)"
   ]
  },
  {
   "cell_type": "code",
   "execution_count": 4,
   "id": "11b272a4-26ad-40d7-bd15-ac5a4c977bcc",
   "metadata": {},
   "outputs": [
    {
     "name": "stdout",
     "output_type": "stream",
     "text": [
      "<class 'pandas.core.frame.DataFrame'>\n",
      "RangeIndex: 2787 entries, 0 to 2786\n",
      "Data columns (total 6 columns):\n",
      " #   Column               Non-Null Count  Dtype  \n",
      "---  ------               --------------  -----  \n",
      " 0   Currency             2787 non-null   object \n",
      " 1   Date                 2787 non-null   object \n",
      " 2   Closing Price (USD)  2787 non-null   float64\n",
      " 3   24h Open (USD)       2787 non-null   float64\n",
      " 4   24h High (USD)       2787 non-null   float64\n",
      " 5   24h Low (USD)        2787 non-null   float64\n",
      "dtypes: float64(4), object(2)\n",
      "memory usage: 130.8+ KB\n"
     ]
    }
   ],
   "source": [
    "bc.info()"
   ]
  },
  {
   "cell_type": "code",
   "execution_count": 5,
   "id": "f630f965-f30b-47e1-99ac-b054faba1211",
   "metadata": {},
   "outputs": [],
   "source": [
    "bc['Date'] = pd.to_datetime(bc['Date'])"
   ]
  },
  {
   "cell_type": "code",
   "execution_count": 26,
   "id": "98b3e23a-34ec-4fc4-9b51-cecb0c9f6eb7",
   "metadata": {},
   "outputs": [],
   "source": [
    "train_dates = bc['Date']"
   ]
  },
  {
   "cell_type": "code",
   "execution_count": 6,
   "id": "e4812323-8aa9-4fa6-806c-484865a65e90",
   "metadata": {},
   "outputs": [
    {
     "name": "stdout",
     "output_type": "stream",
     "text": [
      "<class 'pandas.core.frame.DataFrame'>\n",
      "RangeIndex: 2787 entries, 0 to 2786\n",
      "Data columns (total 6 columns):\n",
      " #   Column               Non-Null Count  Dtype         \n",
      "---  ------               --------------  -----         \n",
      " 0   Currency             2787 non-null   object        \n",
      " 1   Date                 2787 non-null   datetime64[ns]\n",
      " 2   Closing Price (USD)  2787 non-null   float64       \n",
      " 3   24h Open (USD)       2787 non-null   float64       \n",
      " 4   24h High (USD)       2787 non-null   float64       \n",
      " 5   24h Low (USD)        2787 non-null   float64       \n",
      "dtypes: datetime64[ns](1), float64(4), object(1)\n",
      "memory usage: 130.8+ KB\n"
     ]
    }
   ],
   "source": [
    "bc.info()"
   ]
  },
  {
   "cell_type": "code",
   "execution_count": 7,
   "id": "fef18355-12be-4ca7-8bc6-8ed700742ce5",
   "metadata": {},
   "outputs": [
    {
     "data": {
      "text/html": [
       "<div>\n",
       "<style scoped>\n",
       "    .dataframe tbody tr th:only-of-type {\n",
       "        vertical-align: middle;\n",
       "    }\n",
       "\n",
       "    .dataframe tbody tr th {\n",
       "        vertical-align: top;\n",
       "    }\n",
       "\n",
       "    .dataframe thead th {\n",
       "        text-align: right;\n",
       "    }\n",
       "</style>\n",
       "<table border=\"1\" class=\"dataframe\">\n",
       "  <thead>\n",
       "    <tr style=\"text-align: right;\">\n",
       "      <th></th>\n",
       "      <th>Currency</th>\n",
       "      <th>Date</th>\n",
       "      <th>Closing Price (USD)</th>\n",
       "      <th>24h Open (USD)</th>\n",
       "      <th>24h High (USD)</th>\n",
       "      <th>24h Low (USD)</th>\n",
       "    </tr>\n",
       "  </thead>\n",
       "  <tbody>\n",
       "    <tr>\n",
       "      <th>2777</th>\n",
       "      <td>BTC</td>\n",
       "      <td>2021-05-09</td>\n",
       "      <td>58788.209679</td>\n",
       "      <td>57419.147888</td>\n",
       "      <td>59575.463115</td>\n",
       "      <td>57028.498049</td>\n",
       "    </tr>\n",
       "    <tr>\n",
       "      <th>2778</th>\n",
       "      <td>BTC</td>\n",
       "      <td>2021-05-10</td>\n",
       "      <td>58102.191426</td>\n",
       "      <td>58966.915010</td>\n",
       "      <td>59249.141676</td>\n",
       "      <td>56494.915334</td>\n",
       "    </tr>\n",
       "    <tr>\n",
       "      <th>2779</th>\n",
       "      <td>BTC</td>\n",
       "      <td>2021-05-11</td>\n",
       "      <td>55715.546651</td>\n",
       "      <td>58308.318048</td>\n",
       "      <td>59560.025459</td>\n",
       "      <td>53774.628243</td>\n",
       "    </tr>\n",
       "    <tr>\n",
       "      <th>2780</th>\n",
       "      <td>BTC</td>\n",
       "      <td>2021-05-12</td>\n",
       "      <td>56573.555472</td>\n",
       "      <td>55899.752971</td>\n",
       "      <td>56956.075029</td>\n",
       "      <td>54571.693210</td>\n",
       "    </tr>\n",
       "    <tr>\n",
       "      <th>2781</th>\n",
       "      <td>BTC</td>\n",
       "      <td>2021-05-13</td>\n",
       "      <td>52147.821187</td>\n",
       "      <td>56767.711063</td>\n",
       "      <td>58036.509777</td>\n",
       "      <td>51625.547849</td>\n",
       "    </tr>\n",
       "    <tr>\n",
       "      <th>2782</th>\n",
       "      <td>BTC</td>\n",
       "      <td>2021-05-14</td>\n",
       "      <td>49764.132082</td>\n",
       "      <td>49596.778891</td>\n",
       "      <td>51448.798576</td>\n",
       "      <td>46294.720180</td>\n",
       "    </tr>\n",
       "    <tr>\n",
       "      <th>2783</th>\n",
       "      <td>BTC</td>\n",
       "      <td>2021-05-15</td>\n",
       "      <td>50032.693137</td>\n",
       "      <td>49717.354353</td>\n",
       "      <td>51578.312545</td>\n",
       "      <td>48944.346536</td>\n",
       "    </tr>\n",
       "    <tr>\n",
       "      <th>2784</th>\n",
       "      <td>BTC</td>\n",
       "      <td>2021-05-16</td>\n",
       "      <td>47885.625255</td>\n",
       "      <td>49926.035067</td>\n",
       "      <td>50690.802950</td>\n",
       "      <td>47005.102292</td>\n",
       "    </tr>\n",
       "    <tr>\n",
       "      <th>2785</th>\n",
       "      <td>BTC</td>\n",
       "      <td>2021-05-17</td>\n",
       "      <td>45604.615754</td>\n",
       "      <td>46805.537852</td>\n",
       "      <td>49670.414174</td>\n",
       "      <td>43868.638969</td>\n",
       "    </tr>\n",
       "    <tr>\n",
       "      <th>2786</th>\n",
       "      <td>BTC</td>\n",
       "      <td>2021-05-18</td>\n",
       "      <td>43144.471291</td>\n",
       "      <td>46439.336570</td>\n",
       "      <td>46622.853437</td>\n",
       "      <td>42102.346430</td>\n",
       "    </tr>\n",
       "  </tbody>\n",
       "</table>\n",
       "</div>"
      ],
      "text/plain": [
       "     Currency       Date  Closing Price (USD)  24h Open (USD)  24h High (USD)  \\\n",
       "2777      BTC 2021-05-09         58788.209679    57419.147888    59575.463115   \n",
       "2778      BTC 2021-05-10         58102.191426    58966.915010    59249.141676   \n",
       "2779      BTC 2021-05-11         55715.546651    58308.318048    59560.025459   \n",
       "2780      BTC 2021-05-12         56573.555472    55899.752971    56956.075029   \n",
       "2781      BTC 2021-05-13         52147.821187    56767.711063    58036.509777   \n",
       "2782      BTC 2021-05-14         49764.132082    49596.778891    51448.798576   \n",
       "2783      BTC 2021-05-15         50032.693137    49717.354353    51578.312545   \n",
       "2784      BTC 2021-05-16         47885.625255    49926.035067    50690.802950   \n",
       "2785      BTC 2021-05-17         45604.615754    46805.537852    49670.414174   \n",
       "2786      BTC 2021-05-18         43144.471291    46439.336570    46622.853437   \n",
       "\n",
       "      24h Low (USD)  \n",
       "2777   57028.498049  \n",
       "2778   56494.915334  \n",
       "2779   53774.628243  \n",
       "2780   54571.693210  \n",
       "2781   51625.547849  \n",
       "2782   46294.720180  \n",
       "2783   48944.346536  \n",
       "2784   47005.102292  \n",
       "2785   43868.638969  \n",
       "2786   42102.346430  "
      ]
     },
     "execution_count": 7,
     "metadata": {},
     "output_type": "execute_result"
    }
   ],
   "source": [
    "bc.tail(10)"
   ]
  },
  {
   "cell_type": "code",
   "execution_count": 8,
   "id": "9b8ec41c-1e88-41a1-8afe-0324ce7637ab",
   "metadata": {},
   "outputs": [],
   "source": [
    "column = list(bc)[2:3]"
   ]
  },
  {
   "cell_type": "code",
   "execution_count": 9,
   "id": "f47a5e8b-754b-472f-a8d1-c9e5f380d143",
   "metadata": {},
   "outputs": [
    {
     "data": {
      "text/plain": [
       "['Closing Price (USD)']"
      ]
     },
     "execution_count": 9,
     "metadata": {},
     "output_type": "execute_result"
    }
   ],
   "source": [
    "column"
   ]
  },
  {
   "cell_type": "code",
   "execution_count": 10,
   "id": "e36344f6-dbe2-4486-a214-17bc343446b3",
   "metadata": {},
   "outputs": [],
   "source": [
    "train_bc = bc[column].astype(float)"
   ]
  },
  {
   "cell_type": "code",
   "execution_count": 11,
   "id": "af5fd7ba-286f-4eca-8225-58274a708667",
   "metadata": {},
   "outputs": [
    {
     "data": {
      "text/html": [
       "<div>\n",
       "<style scoped>\n",
       "    .dataframe tbody tr th:only-of-type {\n",
       "        vertical-align: middle;\n",
       "    }\n",
       "\n",
       "    .dataframe tbody tr th {\n",
       "        vertical-align: top;\n",
       "    }\n",
       "\n",
       "    .dataframe thead th {\n",
       "        text-align: right;\n",
       "    }\n",
       "</style>\n",
       "<table border=\"1\" class=\"dataframe\">\n",
       "  <thead>\n",
       "    <tr style=\"text-align: right;\">\n",
       "      <th></th>\n",
       "      <th>Closing Price (USD)</th>\n",
       "    </tr>\n",
       "  </thead>\n",
       "  <tbody>\n",
       "    <tr>\n",
       "      <th>0</th>\n",
       "      <td>123.654990</td>\n",
       "    </tr>\n",
       "    <tr>\n",
       "      <th>1</th>\n",
       "      <td>125.455000</td>\n",
       "    </tr>\n",
       "    <tr>\n",
       "      <th>2</th>\n",
       "      <td>108.584830</td>\n",
       "    </tr>\n",
       "    <tr>\n",
       "      <th>3</th>\n",
       "      <td>118.674660</td>\n",
       "    </tr>\n",
       "    <tr>\n",
       "      <th>4</th>\n",
       "      <td>121.338660</td>\n",
       "    </tr>\n",
       "    <tr>\n",
       "      <th>...</th>\n",
       "      <td>...</td>\n",
       "    </tr>\n",
       "    <tr>\n",
       "      <th>2782</th>\n",
       "      <td>49764.132082</td>\n",
       "    </tr>\n",
       "    <tr>\n",
       "      <th>2783</th>\n",
       "      <td>50032.693137</td>\n",
       "    </tr>\n",
       "    <tr>\n",
       "      <th>2784</th>\n",
       "      <td>47885.625255</td>\n",
       "    </tr>\n",
       "    <tr>\n",
       "      <th>2785</th>\n",
       "      <td>45604.615754</td>\n",
       "    </tr>\n",
       "    <tr>\n",
       "      <th>2786</th>\n",
       "      <td>43144.471291</td>\n",
       "    </tr>\n",
       "  </tbody>\n",
       "</table>\n",
       "<p>2787 rows × 1 columns</p>\n",
       "</div>"
      ],
      "text/plain": [
       "      Closing Price (USD)\n",
       "0              123.654990\n",
       "1              125.455000\n",
       "2              108.584830\n",
       "3              118.674660\n",
       "4              121.338660\n",
       "...                   ...\n",
       "2782         49764.132082\n",
       "2783         50032.693137\n",
       "2784         47885.625255\n",
       "2785         45604.615754\n",
       "2786         43144.471291\n",
       "\n",
       "[2787 rows x 1 columns]"
      ]
     },
     "execution_count": 11,
     "metadata": {},
     "output_type": "execute_result"
    }
   ],
   "source": [
    "train_bc"
   ]
  },
  {
   "cell_type": "code",
   "execution_count": 12,
   "id": "e320e68d-4bdc-4f46-ad76-bc777e032af7",
   "metadata": {},
   "outputs": [
    {
     "data": {
      "image/png": "[encoded data removed]",
      "text/plain": [
       "<Figure size 1000x600 with 1 Axes>"
      ]
     },
     "metadata": {},
     "output_type": "display_data"
    }
   ],
   "source": [
    "plt.figure(figsize=(10, 6))\n",
    "plt.plot(bc.index, bc['Closing Price (USD)'], linestyle='-')\n",
    "plt.title('Bitcoin Price Over Time')\n",
    "plt.xlabel('Date')\n",
    "plt.ylabel('Price (USD)')\n",
    "plt.grid(True)\n",
    "plt.show()"
   ]
  },
  {
   "cell_type": "code",
   "execution_count": 13,
   "id": "1a0a5a39-1950-4138-aba1-bc5543758419",
   "metadata": {},
   "outputs": [],
   "source": [
    "scaler = StandardScaler()\n",
    "scaler = scaler.fit(train_bc)\n",
    "train_bc_scaled = scaler.transform(train_bc)"
   ]
  },
  {
   "cell_type": "code",
   "execution_count": 14,
   "id": "434ba3d8-60e5-4867-964a-ae541e37b750",
   "metadata": {},
   "outputs": [],
   "source": [
    "trainX = []\n",
    "trainY = []"
   ]
  },
  {
   "cell_type": "code",
   "execution_count": 15,
   "id": "a77260b1-cd4f-4c02-b589-22c9251837a0",
   "metadata": {},
   "outputs": [],
   "source": [
    "n_future = 1\n",
    "n_past = 14"
   ]
  },
  {
   "cell_type": "code",
   "execution_count": 16,
   "id": "518b5693-11ea-4651-bb65-c8ab59570ab7",
   "metadata": {},
   "outputs": [],
   "source": [
    "for i in range(n_past, len(train_bc_scaled) - n_future + 1):\n",
    "    trainX.append(train_bc_scaled[i - n_past:i, 0:train_bc.shape[1]])\n",
    "    trainY.append(train_bc_scaled[i + n_future - 1: i + n_future, 0])"
   ]
  },
  {
   "cell_type": "code",
   "execution_count": 17,
   "id": "f91b185d-abd7-4bdf-abf6-54a1bf5894af",
   "metadata": {},
   "outputs": [],
   "source": [
    "trainX, trainY = np.array(trainX), np.array(trainY)"
   ]
  },
  {
   "cell_type": "code",
   "execution_count": 18,
   "id": "0dff6e01-7acb-4071-bc1a-ada826813e7f",
   "metadata": {},
   "outputs": [
    {
     "name": "stdout",
     "output_type": "stream",
     "text": [
      "trainX shape == (2773, 14, 1).\n",
      "trainY shape == (2773, 1).\n"
     ]
    }
   ],
   "source": [
    "print('trainX shape == {}.'.format(trainX.shape))\n",
    "print('trainY shape == {}.'.format(trainY.shape))"
   ]
  },
  {
   "cell_type": "code",
   "execution_count": 19,
   "id": "4a0a81e7-c28e-4404-8f01-5a72420b38ae",
   "metadata": {},
   "outputs": [
    {
     "name": "stdout",
     "output_type": "stream",
     "text": [
      "WARNING:tensorflow:Layer lstm will not use cuDNN kernels since it doesn't meet the criteria. It will use a generic GPU kernel as fallback when running on GPU.\n",
      "WARNING:tensorflow:Layer lstm_1 will not use cuDNN kernels since it doesn't meet the criteria. It will use a generic GPU kernel as fallback when running on GPU.\n"
     ]
    }
   ],
   "source": [
    "model = Sequential()\n",
    "model.add(LSTM(64, activation='relu', input_shape=(trainX.shape[1], trainX.shape[2]), return_sequences=True))\n",
    "model.add(LSTM(32, activation='relu', return_sequences=False))\n",
    "model.add(Dropout(0.2))\n",
    "model.add(Dense(trainY.shape[1]))"
   ]
  },
  {
   "cell_type": "code",
   "execution_count": 20,
   "id": "96ee8030-8c40-4771-9be1-54396ee8406a",
   "metadata": {},
   "outputs": [],
   "source": [
    "model.compile(optimizer='adam', loss='mse')"
   ]
  },
  {
   "cell_type": "code",
   "execution_count": 21,
   "id": "723feebb-4540-4d5b-9786-8a135f32694b",
   "metadata": {},
   "outputs": [
    {
     "name": "stdout",
     "output_type": "stream",
     "text": [
      "Model: \"sequential\"\n",
      "_________________________________________________________________\n",
      " Layer (type)                Output Shape              Param #   \n",
      "=================================================================\n",
      " lstm (LSTM)                 (None, 14, 64)            16896     \n",
      "                                                                 \n",
      " lstm_1 (LSTM)               (None, 32)                12416     \n",
      "                                                                 \n",
      " dropout (Dropout)           (None, 32)                0         \n",
      "                                                                 \n",
      " dense (Dense)               (None, 1)                 33        \n",
      "                                                                 \n",
      "=================================================================\n",
      "Total params: 29345 (114.63 KB)\n",
      "Trainable params: 29345 (114.63 KB)\n",
      "Non-trainable params: 0 (0.00 Byte)\n",
      "_________________________________________________________________\n"
     ]
    }
   ],
   "source": [
    "model.summary()"
   ]
  },
  {
   "cell_type": "code",
   "execution_count": 22,
   "id": "9cfd0e78-d408-4e31-98d1-9316b86a4982",
   "metadata": {},
   "outputs": [
    {
     "name": "stdout",
     "output_type": "stream",
     "text": [
      "Epoch 1/25\n",
      "156/156 [==============================] - 48s 300ms/step - loss: 0.0307 - val_loss: 211.2478\n",
      "Epoch 2/25\n",
      "156/156 [==============================] - 46s 294ms/step - loss: 0.0039 - val_loss: 0.4910\n",
      "Epoch 3/25\n",
      "156/156 [==============================] - 45s 285ms/step - loss: 0.0031 - val_loss: 4.1302\n",
      "Epoch 4/25\n",
      "156/156 [==============================] - 44s 285ms/step - loss: 0.0025 - val_loss: 6.3903\n",
      "Epoch 5/25\n",
      "156/156 [==============================] - 44s 281ms/step - loss: 0.0026 - val_loss: 1.7952\n",
      "Epoch 6/25\n",
      "156/156 [==============================] - 46s 296ms/step - loss: 0.0023 - val_loss: 2.9556\n",
      "Epoch 7/25\n",
      "156/156 [==============================] - 44s 282ms/step - loss: 0.0020 - val_loss: 0.2560\n",
      "Epoch 8/25\n",
      "156/156 [==============================] - 44s 282ms/step - loss: 0.0019 - val_loss: 1.7099\n",
      "Epoch 9/25\n",
      "156/156 [==============================] - 45s 289ms/step - loss: 0.0018 - val_loss: 2.3381\n",
      "Epoch 10/25\n",
      "156/156 [==============================] - 44s 283ms/step - loss: 0.0016 - val_loss: 1.1288\n",
      "Epoch 11/25\n",
      "156/156 [==============================] - 44s 285ms/step - loss: 0.0016 - val_loss: 3.8597\n",
      "Epoch 12/25\n",
      "156/156 [==============================] - 47s 302ms/step - loss: 0.0014 - val_loss: 14.5913\n",
      "Epoch 13/25\n",
      "156/156 [==============================] - 46s 296ms/step - loss: 0.0014 - val_loss: 5.2992\n",
      "Epoch 14/25\n",
      "156/156 [==============================] - 46s 292ms/step - loss: 0.0013 - val_loss: 3.6363\n",
      "Epoch 15/25\n",
      "156/156 [==============================] - 45s 291ms/step - loss: 0.0012 - val_loss: 2.0751\n",
      "Epoch 16/25\n",
      "156/156 [==============================] - 44s 283ms/step - loss: 0.0012 - val_loss: 2.1743\n",
      "Epoch 17/25\n",
      "156/156 [==============================] - 46s 295ms/step - loss: 0.0013 - val_loss: 1.5783\n",
      "Epoch 18/25\n",
      "156/156 [==============================] - 45s 291ms/step - loss: 0.0013 - val_loss: 1.0472\n",
      "Epoch 19/25\n",
      "156/156 [==============================] - 46s 296ms/step - loss: 0.0011 - val_loss: 2.0119\n",
      "Epoch 20/25\n",
      "156/156 [==============================] - 46s 295ms/step - loss: 0.0010 - val_loss: 1.8747\n",
      "Epoch 21/25\n",
      "156/156 [==============================] - 44s 284ms/step - loss: 9.9904e-04 - val_loss: 1.7579\n",
      "Epoch 22/25\n",
      "156/156 [==============================] - 45s 290ms/step - loss: 0.0011 - val_loss: 2.6669\n",
      "Epoch 23/25\n",
      "156/156 [==============================] - 44s 282ms/step - loss: 0.0010 - val_loss: 1.0370\n",
      "Epoch 24/25\n",
      "156/156 [==============================] - 45s 285ms/step - loss: 9.7791e-04 - val_loss: 1.9348\n",
      "Epoch 25/25\n",
      "156/156 [==============================] - 44s 285ms/step - loss: 0.0010 - val_loss: 0.4329\n"
     ]
    }
   ],
   "source": [
    "history = model.fit(trainX, trainY, epochs=25, batch_size=16, validation_split=0.1, verbose=1)"
   ]
  },
  {
   "cell_type": "code",
   "execution_count": 23,
   "id": "f6671432-7b55-4317-8b4e-3c149844dd79",
   "metadata": {},
   "outputs": [
    {
     "data": {
      "text/plain": [
       "<matplotlib.legend.Legend at 0x17e605de0>"
      ]
     },
     "execution_count": 23,
     "metadata": {},
     "output_type": "execute_result"
    },
    {
     "data": {
      "image/png": "[encoded data removed]",
      "text/plain": [
       "<Figure size 640x480 with 1 Axes>"
      ]
     },
     "metadata": {},
     "output_type": "display_data"
    }
   ],
   "source": [
    "plt.plot(history.history['loss'], label='Training loss')\n",
    "plt.plot(history.history['val_loss'], label='Validation loss')\n",
    "plt.legend()"
   ]
  },
  {
   "cell_type": "code",
   "execution_count": 24,
   "id": "f298479b-93e6-4828-97e1-14a366904756",
   "metadata": {},
   "outputs": [],
   "source": [
    "n_past = 16\n",
    "n_days_for_prediction=15 "
   ]
  },
  {
   "cell_type": "code",
   "execution_count": 27,
   "id": "3986a20a-3ced-4674-90dc-47c00a92c990",
   "metadata": {},
   "outputs": [
    {
     "name": "stdout",
     "output_type": "stream",
     "text": [
      "[Timestamp('2021-05-03 00:00:00'), Timestamp('2021-05-04 00:00:00'), Timestamp('2021-05-05 00:00:00'), Timestamp('2021-05-06 00:00:00'), Timestamp('2021-05-07 00:00:00'), Timestamp('2021-05-08 00:00:00'), Timestamp('2021-05-09 00:00:00'), Timestamp('2021-05-10 00:00:00'), Timestamp('2021-05-11 00:00:00'), Timestamp('2021-05-12 00:00:00'), Timestamp('2021-05-13 00:00:00'), Timestamp('2021-05-14 00:00:00'), Timestamp('2021-05-15 00:00:00'), Timestamp('2021-05-16 00:00:00'), Timestamp('2021-05-17 00:00:00')]\n"
     ]
    }
   ],
   "source": [
    "predict_period_dates = pd.date_range(list(train_dates)[-n_past], periods=n_days_for_prediction, freq='D').tolist()\n",
    "print(predict_period_dates)"
   ]
  },
  {
   "cell_type": "code",
   "execution_count": 28,
   "id": "a09db6c3-68ae-4ecb-ae2f-1f15ab2488a3",
   "metadata": {},
   "outputs": [
    {
     "name": "stdout",
     "output_type": "stream",
     "text": [
      "1/1 [==============================] - 0s 451ms/step\n"
     ]
    }
   ],
   "source": [
    "prediction = model.predict(trainX[-n_days_for_prediction:])"
   ]
  },
  {
   "cell_type": "code",
   "execution_count": 31,
   "id": "69a7d2d4-56a3-45e5-9a27-46a193ddd656",
   "metadata": {},
   "outputs": [],
   "source": [
    "prediction_copies = np.repeat(prediction, train_bc.shape[1], axis=-1)\n",
    "y_pred_future = scaler.inverse_transform(prediction_copies)[:,0]"
   ]
  },
  {
   "cell_type": "code",
   "execution_count": 32,
   "id": "deb13414-3281-4d82-8231-695940aff6d4",
   "metadata": {},
   "outputs": [],
   "source": [
    "forecast_dates = []\n",
    "for time_i in predict_period_dates:\n",
    "    forecast_dates.append(time_i.date())"
   ]
  },
  {
   "cell_type": "code",
   "execution_count": 42,
   "id": "cfa2d6c1-4451-4e57-9309-09285731c662",
   "metadata": {},
   "outputs": [],
   "source": [
    "bc_forecast = pd.DataFrame({'Date':np.array(forecast_dates), 'Closing Price (USD)':y_pred_future})\n",
    "bc_forecast['Date']=pd.to_datetime(bc_forecast['Date'])"
   ]
  },
  {
   "cell_type": "code",
   "execution_count": 44,
   "id": "4ab951cb-1d4f-43e3-9c62-5da82bcb2d89",
   "metadata": {},
   "outputs": [
    {
     "data": {
      "text/plain": [
       "<Axes: xlabel='Date', ylabel='Closing Price (USD)'>"
      ]
     },
     "execution_count": 44,
     "metadata": {},
     "output_type": "execute_result"
    },
    {
     "data": {
      "image/png": "[encoded data removed]",
      "text/plain": [
       "<Figure size 640x480 with 1 Axes>"
      ]
     },
     "metadata": {},
     "output_type": "display_data"
    }
   ],
   "source": [
    "original = bc[['Date', 'Closing Price (USD)']]\n",
    "original.loc[:, 'Date']=pd.to_datetime(original['Date'])\n",
    "original = original.loc[original['Date'] >= '2013-10-13']\n",
    "\n",
    "# sns.lineplot(original['Date'], original['Closing Price (USD)'])\n",
    "# sns.lineplot(bc_forecast['Date'], bc_forecast['Closing Price (USD)'])\n",
    "\n",
    "sns.lineplot(data=original, x='Date', y='Closing Price (USD)')\n",
    "sns.lineplot(data=bc_forecast, x='Date', y='Closing Price (USD)')"
   ]
  }
 ],
 "metadata": {
  "kernelspec": {
   "display_name": "Python 3 (ipykernel)",
   "language": "python",
   "name": "python3"
  },
  "language_info": {
   "codemirror_mode": {
    "name": "ipython",
    "version": 3
   },
   "file_extension": ".py",
   "mimetype": "text/x-python",
   "name": "python",
   "nbconvert_exporter": "python",
   "pygments_lexer": "ipython3",
   "version": "3.10.13"
  }
 },
 "nbformat": 4,
 "nbformat_minor": 5
}
